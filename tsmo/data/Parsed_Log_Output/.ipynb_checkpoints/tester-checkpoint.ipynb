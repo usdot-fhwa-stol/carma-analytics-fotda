{
 "cells": [
  {
   "cell_type": "code",
   "execution_count": 8,
   "metadata": {},
   "outputs": [],
   "source": [
    "import gmplot\n",
    "from csv import reader\n",
    "from csv import writer\n",
    "import pandas as pd\n",
    "import numpy as np\n",
    "import math\n",
    "from statistics import *\n",
    "import matplotlib\n",
    "import matplotlib.pyplot as plt\n",
    "from matplotlib import pyplot\n",
    "from matplotlib.pyplot import figure\n",
    "import probscale\n",
    "from matplotlib.ticker import PercentFormatter\n",
    "import os\n",
    "import glob\n",
    "import sys\n",
    "import constants \n",
    "import J2735decoder\n",
    "\n",
    "input_directory_path = f'../data/input/Test6'\n",
    "\n",
    "data = pd.read_csv(f'./)\n",
    "    \n",
    "\n"
   ]
  },
  {
   "cell_type": "code",
   "execution_count": 2,
   "metadata": {},
   "outputs": [],
   "source": []
  },
  {
   "cell_type": "code",
   "execution_count": 9,
   "metadata": {},
   "outputs": [],
   "source": []
  },
  {
   "cell_type": "code",
   "execution_count": null,
   "metadata": {},
   "outputs": [],
   "source": []
  }
 ],
 "metadata": {
  "kernelspec": {
   "display_name": "Python 3",
   "language": "python",
   "name": "python3"
  },
  "language_info": {
   "codemirror_mode": {
    "name": "ipython",
    "version": 3
   },
   "file_extension": ".py",
   "mimetype": "text/x-python",
   "name": "python",
   "nbconvert_exporter": "python",
   "pygments_lexer": "ipython3",
   "version": "3.8.10"
  }
 },
 "nbformat": 4,
 "nbformat_minor": 4
}
